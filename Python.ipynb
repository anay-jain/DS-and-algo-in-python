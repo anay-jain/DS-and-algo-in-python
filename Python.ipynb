{
 "cells": [
  {
   "cell_type": "code",
   "execution_count": 1,
   "id": "9e1db2e9",
   "metadata": {},
   "outputs": [
    {
     "data": {
      "text/plain": [
       "True"
      ]
     },
     "execution_count": 1,
     "metadata": {},
     "output_type": "execute_result"
    }
   ],
   "source": [
    "a= 1\n",
    "isinstance(a,int)"
   ]
  },
  {
   "cell_type": "code",
   "execution_count": 2,
   "id": "d09a0ec3",
   "metadata": {},
   "outputs": [],
   "source": [
    "# boolean in python is int \n",
    "#  0 Fslse , 1 true"
   ]
  },
  {
   "cell_type": "code",
   "execution_count": 8,
   "id": "10c6c08f",
   "metadata": {},
   "outputs": [],
   "source": [
    "def show(a,b,c,d =\"keyword\",e = \"argument\"):\n",
    "    print(a)\n",
    "    print(b)\n",
    "    print(c)    \n",
    "    print(d)\n",
    "    print(e)\n",
    "    "
   ]
  },
  {
   "cell_type": "code",
   "execution_count": 9,
   "id": "40323133",
   "metadata": {},
   "outputs": [
    {
     "name": "stdout",
     "output_type": "stream",
     "text": [
      "hellpw\n",
      "world\n",
      "s\n",
      "keyword\n",
      "argument\n"
     ]
    }
   ],
   "source": [
    "show(\"hellpw\",\"world\",\"s\")\n"
   ]
  },
  {
   "cell_type": "code",
   "execution_count": 11,
   "id": "266ab77f",
   "metadata": {},
   "outputs": [
    {
     "name": "stdout",
     "output_type": "stream",
     "text": [
      "helllo\n",
      "world\n",
      "and\n",
      "keyword\n",
      "something\n"
     ]
    }
   ],
   "source": [
    "#keyword arguments\n",
    "show(\"helllo\",\"world\",\"and\",e=\"something\")"
   ]
  },
  {
   "cell_type": "code",
   "execution_count": null,
   "id": "66fc6f04",
   "metadata": {},
   "outputs": [],
   "source": [
    "#printing it at the start\n",
    "print(\"as\",\"d\",sep=\"_\",end=\"\\n\")"
   ]
  },
  {
   "cell_type": "markdown",
   "id": "dddc31c5",
   "metadata": {},
   "source": [
    "# Positional Arguments \n",
    "all the arguments are packed in here \n"
   ]
  },
  {
   "cell_type": "code",
   "execution_count": 13,
   "id": "d1e3d216",
   "metadata": {},
   "outputs": [],
   "source": [
    "def show(a,b,c,*args,d=10,e=100):\n",
    "    print(a)\n",
    "    print(b)\n",
    "    print(args) \n",
    "    print(d)"
   ]
  },
  {
   "cell_type": "code",
   "execution_count": 14,
   "id": "d63e8794",
   "metadata": {},
   "outputs": [
    {
     "name": "stdout",
     "output_type": "stream",
     "text": [
      "1\n",
      "2\n",
      "(3, 'Anay')\n",
      "10\n"
     ]
    }
   ],
   "source": [
    "show(1,2,2,3,\"Anay\")"
   ]
  },
  {
   "cell_type": "markdown",
   "id": "0ac94fa3",
   "metadata": {},
   "source": [
    "# Keywords arguments are packed with **kwargs\n",
    "Any keywords arguments after *args will be packed in kwargs (which are not postionally defined)\n"
   ]
  },
  {
   "cell_type": "code",
   "execution_count": 19,
   "id": "9d6b1418",
   "metadata": {},
   "outputs": [],
   "source": [
    "def show(a,b,c,*args,d=10,**kwargs):\n",
    "    print(a)\n",
    "    print(b)\n",
    "    print(c)\n",
    "    print(args)\n",
    "    print(d)\n",
    "    print(kwargs)"
   ]
  },
  {
   "cell_type": "code",
   "execution_count": 20,
   "id": "f6c29466",
   "metadata": {},
   "outputs": [
    {
     "name": "stdout",
     "output_type": "stream",
     "text": [
      "1\n",
      "2\n",
      "3\n",
      "(3, 34, 'aA', 'jain')\n",
      "12\n",
      "{'g': 12, 'h': 3}\n"
     ]
    }
   ],
   "source": [
    "show(1,2,3,3,34,\"aA\",\"jain\"-,d=12,g=12,h=3)"
   ]
  },
  {
   "cell_type": "markdown",
   "id": "f06dd113",
   "metadata": {},
   "source": [
    "# Positional arguments , packed positional arguments , keyword argument,packed keuword arguments"
   ]
  },
  {
   "cell_type": "code",
   "execution_count": 22,
   "id": "ba131f41",
   "metadata": {},
   "outputs": [],
   "source": [
    "add = lambda a,b:a+b"
   ]
  },
  {
   "cell_type": "code",
   "execution_count": 23,
   "id": "25f45ce8",
   "metadata": {},
   "outputs": [
    {
     "data": {
      "text/plain": [
       "3"
      ]
     },
     "execution_count": 23,
     "metadata": {},
     "output_type": "execute_result"
    }
   ],
   "source": [
    "add(1,2)"
   ]
  },
  {
   "cell_type": "code",
   "execution_count": 36,
   "id": "8ac6d1fd",
   "metadata": {},
   "outputs": [],
   "source": [
    "a=[12,22,13,4,354,23,12,12]"
   ]
  },
  {
   "cell_type": "code",
   "execution_count": 39,
   "id": "9d8b463b",
   "metadata": {},
   "outputs": [
    {
     "data": {
      "text/plain": [
       "[4, 12, 12, 12, 13, 22, 23, 354]"
      ]
     },
     "execution_count": 39,
     "metadata": {},
     "output_type": "execute_result"
    }
   ],
   "source": [
    "sorted(a)"
   ]
  },
  {
   "cell_type": "code",
   "execution_count": 48,
   "id": "cbaa875b",
   "metadata": {},
   "outputs": [],
   "source": [
    "li  = [(\"Anay\" ,40),(\"Xhumika\",22),(\"Prachi\",1)]"
   ]
  },
  {
   "cell_type": "code",
   "execution_count": 49,
   "id": "d8c1b251",
   "metadata": {},
   "outputs": [
    {
     "data": {
      "text/plain": [
       "[('Anay', 40), ('Prachi', 1), ('Xhumika', 22)]"
      ]
     },
     "execution_count": 49,
     "metadata": {},
     "output_type": "execute_result"
    }
   ],
   "source": [
    "#will sort on the basis of the 1st ele of the tuple\n",
    "sorted(li)"
   ]
  },
  {
   "cell_type": "code",
   "execution_count": 50,
   "id": "b1d324f0",
   "metadata": {},
   "outputs": [
    {
     "data": {
      "text/plain": [
       "[('Prachi', 1), ('Xhumika', 22), ('Anay', 40)]"
      ]
     },
     "execution_count": 50,
     "metadata": {},
     "output_type": "execute_result"
    }
   ],
   "source": [
    "sorted(li, key = lambda x:x[1])"
   ]
  },
  {
   "cell_type": "code",
   "execution_count": 51,
   "id": "f91e676a",
   "metadata": {},
   "outputs": [
    {
     "data": {
      "text/plain": [
       "[('Anay', 40), ('Xhumika', 22), ('Prachi', 1)]"
      ]
     },
     "execution_count": 51,
     "metadata": {},
     "output_type": "execute_result"
    }
   ],
   "source": [
    "sorted(li, key = lambda x:x[1],reverse = True)"
   ]
  },
  {
   "cell_type": "markdown",
   "id": "9f51e5da",
   "metadata": {},
   "source": [
    "# Decorators \n",
    " Decorators allow us to wrap another function in order to extend the behaviour of the wrapped function, without permanently modifying it. "
   ]
  },
  {
   "cell_type": "code",
   "execution_count": 9,
   "id": "be6103b0",
   "metadata": {},
   "outputs": [],
   "source": [
    "mapper = {\"Anay\":1,\n",
    "            \"Prachi\":2}\n",
    "def login_system(func):\n",
    "    def isValid(username,password,*args):\n",
    "        if username in mapper and mapper[username]==password:\n",
    "            func(*args) # this is IMP , as *args will expand its list as the parameters not as a tuple\n",
    "        else:\n",
    "            print(\"Not authenticated\")\n",
    "    return isValid\n",
    "\n"
   ]
  },
  {
   "cell_type": "code",
   "execution_count": 10,
   "id": "8459acee",
   "metadata": {},
   "outputs": [],
   "source": [
    "@login_system\n",
    "def add(a,b):\n",
    "    return a+b"
   ]
  },
  {
   "cell_type": "code",
   "execution_count": 14,
   "id": "6e0961b5",
   "metadata": {},
   "outputs": [],
   "source": [
    "#SAME AS ABOVE\n",
    "\n",
    "def add(a,b):\n",
    "    print(a+b)\n",
    "\n",
    "\n",
    "add = login_system(add)"
   ]
  },
  {
   "cell_type": "code",
   "execution_count": 15,
   "id": "04421868",
   "metadata": {},
   "outputs": [
    {
     "name": "stdout",
     "output_type": "stream",
     "text": [
      "5\n",
      "None\n"
     ]
    }
   ],
   "source": [
    "print(add(\"Anay\",1,2,3))"
   ]
  },
  {
   "cell_type": "markdown",
   "id": "adc2d323",
   "metadata": {},
   "source": [
    "# Data Strcuctures in python\n",
    "    1) from -5 to 256 it will assign the same memeory to the variables that have same num stored\n",
    "    a = 234 , b= 234 ( they will share same memory)"
   ]
  },
  {
   "cell_type": "markdown",
   "id": "3b60b816",
   "metadata": {},
   "source": [
    "# Strings \n",
    "1) immutable\n",
    "2) treated as as a string , not as a character array\n"
   ]
  },
  {
   "cell_type": "code",
   "execution_count": 17,
   "id": "6a6792a1",
   "metadata": {},
   "outputs": [
    {
     "data": {
      "text/plain": [
       "65"
      ]
     },
     "execution_count": 17,
     "metadata": {},
     "output_type": "execute_result"
    }
   ],
   "source": [
    "# give ascii represenation \n",
    "ord(\"A\") "
   ]
  },
  {
   "cell_type": "code",
   "execution_count": 18,
   "id": "a3be9aef",
   "metadata": {},
   "outputs": [
    {
     "data": {
      "text/plain": [
       "'A'"
      ]
     },
     "execution_count": 18,
     "metadata": {},
     "output_type": "execute_result"
    }
   ],
   "source": [
    "chr(65)"
   ]
  },
  {
   "cell_type": "markdown",
   "id": "74372395",
   "metadata": {},
   "source": [
    "# String formatting\n"
   ]
  },
  {
   "cell_type": "code",
   "execution_count": 20,
   "id": "202a5daa",
   "metadata": {},
   "outputs": [],
   "source": [
    "a=\"anay\"\n",
    "b=23\n",
    "c=2\n"
   ]
  },
  {
   "cell_type": "code",
   "execution_count": 21,
   "id": "b6c2a7aa",
   "metadata": {},
   "outputs": [
    {
     "name": "stdout",
     "output_type": "stream",
     "text": [
      "anay-23\n"
     ]
    }
   ],
   "source": [
    "# normal method\n",
    "print(a+\"-\"+str(b))"
   ]
  },
  {
   "cell_type": "code",
   "execution_count": 22,
   "id": "a634b837",
   "metadata": {},
   "outputs": [
    {
     "name": "stdout",
     "output_type": "stream",
     "text": [
      "anay-23-2\n"
     ]
    }
   ],
   "source": [
    "# method which have strict type\n",
    "print(\"%s-%d-%d\" % (a,b,c))"
   ]
  },
  {
   "cell_type": "code",
   "execution_count": 23,
   "id": "8c6a069d",
   "metadata": {},
   "outputs": [
    {
     "name": "stdout",
     "output_type": "stream",
     "text": [
      "anay-23-2\n"
     ]
    }
   ],
   "source": [
    "# method with loose type\n",
    "print(\"{}-{}-{}\".format(a,b,c))"
   ]
  },
  {
   "cell_type": "code",
   "execution_count": 24,
   "id": "c204550f",
   "metadata": {},
   "outputs": [
    {
     "name": "stdout",
     "output_type": "stream",
     "text": [
      "23-anay-2\n"
     ]
    }
   ],
   "source": [
    "print(\"{1}-{0}-{2}\".format(a,b,c))"
   ]
  },
  {
   "cell_type": "code",
   "execution_count": 30,
   "id": "d2458dc1",
   "metadata": {},
   "outputs": [
    {
     "name": "stdout",
     "output_type": "stream",
     "text": [
      "a-s\n"
     ]
    }
   ],
   "source": [
    "print(\"{firstname}-{last}\".format(firstname=\"a\",last=\"s\"))"
   ]
  },
  {
   "cell_type": "markdown",
   "id": "109093e4",
   "metadata": {},
   "source": [
    "# New introduction in python 3\n"
   ]
  },
  {
   "cell_type": "code",
   "execution_count": 31,
   "id": "2ffc3ed4",
   "metadata": {},
   "outputs": [],
   "source": [
    "firstname = \"Anay\"\n",
    "lastname = \"Jain\""
   ]
  },
  {
   "cell_type": "code",
   "execution_count": 35,
   "id": "dfbf6384",
   "metadata": {},
   "outputs": [
    {
     "name": "stdout",
     "output_type": "stream",
     "text": [
      "Anay and Jain\n"
     ]
    }
   ],
   "source": [
    "print(f\"{firstname} and {lastname}\")\n",
    "# just write f in the start and it will automatically take these values"
   ]
  },
  {
   "cell_type": "code",
   "execution_count": 37,
   "id": "c7caa2bb",
   "metadata": {},
   "outputs": [
    {
     "data": {
      "text/plain": [
       "'anay.'"
      ]
     },
     "execution_count": 37,
     "metadata": {},
     "output_type": "execute_result"
    }
   ],
   "source": [
    "# remove all white spaces\n",
    "a= \"    anay.    \"\n",
    "a.strip()"
   ]
  },
  {
   "cell_type": "code",
   "execution_count": 39,
   "id": "1540fdf3",
   "metadata": {},
   "outputs": [
    {
     "data": {
      "text/plain": [
       "['My', 'anme', 'is', 'anay']"
      ]
     },
     "execution_count": 39,
     "metadata": {},
     "output_type": "execute_result"
    }
   ],
   "source": [
    "# split in list on the basis of delim\n",
    "text =\"My anme is anay\"\n",
    "text.split(\" \")"
   ]
  },
  {
   "cell_type": "code",
   "execution_count": 42,
   "id": "0f6d547a",
   "metadata": {},
   "outputs": [
    {
     "data": {
      "text/plain": [
       "'My nnme is nnny'"
      ]
     },
     "execution_count": 42,
     "metadata": {},
     "output_type": "execute_result"
    }
   ],
   "source": [
    "# all the occurence of a will be replaced by n \n",
    "text.replace(\"a\",\"n\")"
   ]
  },
  {
   "cell_type": "code",
   "execution_count": 44,
   "id": "d3212386",
   "metadata": {},
   "outputs": [
    {
     "data": {
      "text/plain": [
       "2"
      ]
     },
     "execution_count": 44,
     "metadata": {},
     "output_type": "execute_result"
    }
   ],
   "source": [
    "text.count(\"y\")"
   ]
  },
  {
   "cell_type": "markdown",
   "id": "daba93e8",
   "metadata": {},
   "source": [
    "# Lists in python\n"
   ]
  },
  {
   "cell_type": "code",
   "execution_count": 48,
   "id": "564c7bc4",
   "metadata": {},
   "outputs": [],
   "source": [
    "# list can contain function too \n",
    "a =[1,\"Anay\",print]"
   ]
  },
  {
   "cell_type": "code",
   "execution_count": 49,
   "id": "deb7acbe",
   "metadata": {},
   "outputs": [
    {
     "name": "stdout",
     "output_type": "stream",
     "text": [
      "hei\n"
     ]
    }
   ],
   "source": [
    "a[2](\"hei\") "
   ]
  },
  {
   "cell_type": "code",
   "execution_count": 51,
   "id": "212bc274",
   "metadata": {},
   "outputs": [
    {
     "name": "stdout",
     "output_type": "stream",
     "text": [
      "[1, 2, 3, 4, 5, 1, 2, 3, 4, 5]\n",
      "[1, 2, 3, 4, 5, 1, 2, 3, 4, 5, 1, 2, 3, 4, 5, 1, 2, 3, 4, 5]\n"
     ]
    }
   ],
   "source": [
    "b = [1,2,3,4,5]\n",
    "print(b+b)\n",
    "print(b*4)"
   ]
  },
  {
   "cell_type": "code",
   "execution_count": 52,
   "id": "c35e2eb1",
   "metadata": {},
   "outputs": [
    {
     "name": "stdout",
     "output_type": "stream",
     "text": [
      "1\n",
      "2\n",
      "3\n",
      "4\n",
      "5\n"
     ]
    }
   ],
   "source": [
    "for i in b:\n",
    "    print(i)"
   ]
  },
  {
   "cell_type": "code",
   "execution_count": 53,
   "id": "2e7bb781",
   "metadata": {},
   "outputs": [
    {
     "data": {
      "text/plain": [
       "True"
      ]
     },
     "execution_count": 53,
     "metadata": {},
     "output_type": "execute_result"
    }
   ],
   "source": [
    "1 in b"
   ]
  },
  {
   "cell_type": "code",
   "execution_count": 54,
   "id": "efffa5d1",
   "metadata": {},
   "outputs": [
    {
     "data": {
      "text/plain": [
       "'yanA'"
      ]
     },
     "execution_count": 54,
     "metadata": {},
     "output_type": "execute_result"
    }
   ],
   "source": [
    "name =\"Anay\"\n",
    "name[::-1]"
   ]
  },
  {
   "cell_type": "markdown",
   "id": "18c0cf67",
   "metadata": {},
   "source": [
    "# Deleting the elemets in list\n",
    "    1 pop -- remove on the basis of index\n",
    "    2 del\n",
    "    3 remove -- on the basis of element "
   ]
  },
  {
   "cell_type": "code",
   "execution_count": 55,
   "id": "cca60bc6",
   "metadata": {},
   "outputs": [],
   "source": [
    "a=[1,2,3,4,5]"
   ]
  },
  {
   "cell_type": "code",
   "execution_count": 56,
   "id": "438ecafc",
   "metadata": {},
   "outputs": [
    {
     "data": {
      "text/plain": [
       "5"
      ]
     },
     "execution_count": 56,
     "metadata": {},
     "output_type": "execute_result"
    }
   ],
   "source": [
    "a.pop()"
   ]
  },
  {
   "cell_type": "code",
   "execution_count": 57,
   "id": "2e2e05a4",
   "metadata": {},
   "outputs": [
    {
     "data": {
      "text/plain": [
       "2"
      ]
     },
     "execution_count": 57,
     "metadata": {},
     "output_type": "execute_result"
    }
   ],
   "source": [
    "a.pop(1)"
   ]
  },
  {
   "cell_type": "code",
   "execution_count": 61,
   "id": "bc8b4b48",
   "metadata": {},
   "outputs": [
    {
     "data": {
      "text/plain": [
       "[1, 'anay', 'anay', 3, 4]"
      ]
     },
     "execution_count": 61,
     "metadata": {},
     "output_type": "execute_result"
    }
   ],
   "source": [
    "a.insert(1,\"anay\")\n",
    "a"
   ]
  },
  {
   "cell_type": "code",
   "execution_count": 63,
   "id": "04266958",
   "metadata": {},
   "outputs": [],
   "source": [
    "namelist =[\"Anay\", \"Jain\"]"
   ]
  },
  {
   "cell_type": "code",
   "execution_count": 66,
   "id": "ea1f5f79",
   "metadata": {},
   "outputs": [],
   "source": [
    "\n",
    "namelist.remove(\"Anay\")"
   ]
  },
  {
   "cell_type": "code",
   "execution_count": 68,
   "id": "4e8d60bb",
   "metadata": {},
   "outputs": [
    {
     "data": {
      "text/plain": [
       "['Jain']"
      ]
     },
     "execution_count": 68,
     "metadata": {},
     "output_type": "execute_result"
    }
   ],
   "source": [
    "\n",
    "namelist"
   ]
  },
  {
   "cell_type": "code",
   "execution_count": 72,
   "id": "1d3ec642",
   "metadata": {},
   "outputs": [],
   "source": [
    "a=[1,2,3,4]"
   ]
  },
  {
   "cell_type": "code",
   "execution_count": 77,
   "id": "7626c621",
   "metadata": {},
   "outputs": [],
   "source": [
    "a.reverse()"
   ]
  },
  {
   "cell_type": "code",
   "execution_count": 78,
   "id": "b1d2f372",
   "metadata": {},
   "outputs": [
    {
     "data": {
      "text/plain": [
       "[4, 3, 2, 1]"
      ]
     },
     "execution_count": 78,
     "metadata": {},
     "output_type": "execute_result"
    }
   ],
   "source": [
    "a"
   ]
  },
  {
   "cell_type": "code",
   "execution_count": 80,
   "id": "f956b0a0",
   "metadata": {},
   "outputs": [
    {
     "name": "stdout",
     "output_type": "stream",
     "text": [
      "1\n",
      "2\n",
      "3\n",
      "4\n"
     ]
    }
   ],
   "source": [
    "for i in reversed(a):\n",
    "    print(i)"
   ]
  },
  {
   "cell_type": "markdown",
   "id": "48eb3530",
   "metadata": {},
   "source": [
    "# Tuples"
   ]
  },
  {
   "cell_type": "code",
   "execution_count": 81,
   "id": "6eabd5d6",
   "metadata": {},
   "outputs": [],
   "source": [
    "a=(1,2,3)"
   ]
  },
  {
   "cell_type": "markdown",
   "id": "4c84c6a1",
   "metadata": {},
   "source": [
    "if we dont give paranthesis it will also be considered as tuple"
   ]
  },
  {
   "cell_type": "code",
   "execution_count": 83,
   "id": "d511325e",
   "metadata": {},
   "outputs": [
    {
     "data": {
      "text/plain": [
       "(1, 2, 3)"
      ]
     },
     "execution_count": 83,
     "metadata": {},
     "output_type": "execute_result"
    }
   ],
   "source": [
    "a = 1,2,3\n",
    "a"
   ]
  },
  {
   "cell_type": "markdown",
   "id": "bdec08bd",
   "metadata": {},
   "source": [
    "Unpacking can be done on the tuple by giving same variables as inn the tuple"
   ]
  },
  {
   "cell_type": "code",
   "execution_count": 87,
   "id": "a4164d76",
   "metadata": {},
   "outputs": [
    {
     "name": "stdout",
     "output_type": "stream",
     "text": [
      "1 2 3\n"
     ]
    }
   ],
   "source": [
    "b,c,d=a\n",
    "print(b,c,d)"
   ]
  },
  {
   "cell_type": "markdown",
   "id": "67562b69",
   "metadata": {},
   "source": [
    "# Swapping by tuple\n"
   ]
  },
  {
   "cell_type": "code",
   "execution_count": 92,
   "id": "a28a0689",
   "metadata": {},
   "outputs": [],
   "source": [
    "a=2\n",
    "b=44"
   ]
  },
  {
   "cell_type": "code",
   "execution_count": 93,
   "id": "caadbeda",
   "metadata": {},
   "outputs": [],
   "source": [
    "b,a=a,b # this is done due to the tuple property"
   ]
  },
  {
   "cell_type": "code",
   "execution_count": 94,
   "id": "c496713b",
   "metadata": {},
   "outputs": [
    {
     "name": "stdout",
     "output_type": "stream",
     "text": [
      "44 2\n"
     ]
    }
   ],
   "source": [
    "print(a,b)"
   ]
  },
  {
   "cell_type": "code",
   "execution_count": 96,
   "id": "9db015ca",
   "metadata": {},
   "outputs": [
    {
     "data": {
      "text/plain": [
       "['a', 'n', 'a', 'y']"
      ]
     },
     "execution_count": 96,
     "metadata": {},
     "output_type": "execute_result"
    }
   ],
   "source": [
    "a=list(\"anay\")\n",
    "a"
   ]
  },
  {
   "cell_type": "code",
   "execution_count": 98,
   "id": "b9e02668",
   "metadata": {},
   "outputs": [
    {
     "data": {
      "text/plain": [
       "[0, 1, 2, 3, 4, 5, 6, 7, 8, 9, 10, 11]"
      ]
     },
     "execution_count": 98,
     "metadata": {},
     "output_type": "execute_result"
    }
   ],
   "source": [
    "a= list(range(12))\n",
    "a"
   ]
  },
  {
   "cell_type": "markdown",
   "id": "8c60668c",
   "metadata": {},
   "source": [
    "# Returning multiple values from function( return a tuple)"
   ]
  },
  {
   "cell_type": "code",
   "execution_count": 99,
   "id": "c33dd624",
   "metadata": {},
   "outputs": [],
   "source": [
    "def addSubtract(a,b):\n",
    "    return (a+b,a-b) \n",
    "#   return a+b,a-b     --> thisi can also be returned as tuple dont need paranthesis, python will consider it as a tuple"
   ]
  },
  {
   "cell_type": "code",
   "execution_count": 102,
   "id": "3307dc8a",
   "metadata": {},
   "outputs": [
    {
     "data": {
      "text/plain": [
       "5"
      ]
     },
     "execution_count": 102,
     "metadata": {},
     "output_type": "execute_result"
    }
   ],
   "source": [
    "sum , diff = addSubtract(2,3)\n",
    "sum"
   ]
  },
  {
   "cell_type": "markdown",
   "id": "321355fd",
   "metadata": {},
   "source": [
    "# Dictonaries"
   ]
  },
  {
   "cell_type": "code",
   "execution_count": 104,
   "id": "9f32239d",
   "metadata": {},
   "outputs": [],
   "source": [
    "a= {\n",
    "    \"Name\":\"Anay\",\n",
    "    \"Roll\":23,\n",
    "    \"Subjects\":[\"eng\",\"math\"],\n",
    "    \"marks\":{\n",
    "        \"Eng\":23,\n",
    "        \"Math\":24\n",
    "    }\n",
    "}"
   ]
  },
  {
   "cell_type": "code",
   "execution_count": 105,
   "id": "c85250f2",
   "metadata": {},
   "outputs": [
    {
     "name": "stdout",
     "output_type": "stream",
     "text": [
      "Name\n",
      "Roll\n",
      "Subjects\n",
      "marks\n"
     ]
    }
   ],
   "source": [
    "for keyss in a:\n",
    "    print(keyss)"
   ]
  },
  {
   "cell_type": "markdown",
   "id": "19fa7cc1",
   "metadata": {},
   "source": [
    "# a.items() will make a tuple of key value pair"
   ]
  },
  {
   "cell_type": "code",
   "execution_count": 106,
   "id": "12538d41",
   "metadata": {},
   "outputs": [
    {
     "name": "stdout",
     "output_type": "stream",
     "text": [
      "('Name', 'Anay')\n",
      "('Roll', 23)\n",
      "('Subjects', ['eng', 'math'])\n",
      "('marks', {'Eng': 23, 'Math': 24})\n"
     ]
    }
   ],
   "source": [
    "for item in a.items():\n",
    "    print(item)"
   ]
  },
  {
   "cell_type": "code",
   "execution_count": 107,
   "id": "fb357b6f",
   "metadata": {
    "scrolled": true
   },
   "outputs": [
    {
     "name": "stdout",
     "output_type": "stream",
     "text": [
      "Name ==> Anay\n",
      "Roll ==> 23\n",
      "Subjects ==> ['eng', 'math']\n",
      "marks ==> {'Eng': 23, 'Math': 24}\n"
     ]
    }
   ],
   "source": [
    "# as it is a tuple , we can use a tuple property\n",
    "for key,value in a.items():\n",
    "    print(key,\"==>\",value)"
   ]
  },
  {
   "cell_type": "markdown",
   "id": "c6b5374b",
   "metadata": {},
   "source": [
    "# functions on dictonaries\n",
    "    1) a.keys()\n",
    "    2) a.values()\n",
    "    4) a.get() // will return none if key not found\n",
    "    3) a.clear()"
   ]
  },
  {
   "cell_type": "markdown",
   "id": "0b45a8f8",
   "metadata": {},
   "source": [
    "# keys in dictonary can be any immutable DS, for ex they can be tuple"
   ]
  },
  {
   "cell_type": "markdown",
   "id": "9f50c9df",
   "metadata": {},
   "source": [
    "# Sets -> are unordered and cant be indexed\n",
    "\n"
   ]
  },
  {
   "cell_type": "code",
   "execution_count": 108,
   "id": "ba9127eb",
   "metadata": {},
   "outputs": [],
   "source": [
    "a={}  # will not create a set , it will create a dict by defualt "
   ]
  },
  {
   "cell_type": "code",
   "execution_count": 109,
   "id": "d52d347f",
   "metadata": {},
   "outputs": [
    {
     "data": {
      "text/plain": [
       "dict"
      ]
     },
     "execution_count": 109,
     "metadata": {},
     "output_type": "execute_result"
    }
   ],
   "source": [
    "type(a)"
   ]
  },
  {
   "cell_type": "code",
   "execution_count": 110,
   "id": "8f533f9d",
   "metadata": {},
   "outputs": [],
   "source": [
    "a = set()  # will initate it with the set\n",
    "a = {1,2,3,4}\n",
    "b={3,4,5,6}\n"
   ]
  },
  {
   "cell_type": "code",
   "execution_count": 111,
   "id": "7c42afb8",
   "metadata": {},
   "outputs": [
    {
     "data": {
      "text/plain": [
       "{1, 2, 3, 4, 5, 6}"
      ]
     },
     "execution_count": 111,
     "metadata": {},
     "output_type": "execute_result"
    }
   ],
   "source": [
    "a | b"
   ]
  },
  {
   "cell_type": "code",
   "execution_count": 112,
   "id": "a084f42d",
   "metadata": {},
   "outputs": [
    {
     "data": {
      "text/plain": [
       "{3, 4}"
      ]
     },
     "execution_count": 112,
     "metadata": {},
     "output_type": "execute_result"
    }
   ],
   "source": [
    "a & b"
   ]
  },
  {
   "cell_type": "code",
   "execution_count": 114,
   "id": "cd309bc7",
   "metadata": {},
   "outputs": [
    {
     "data": {
      "text/plain": [
       "{3, 4}"
      ]
     },
     "execution_count": 114,
     "metadata": {},
     "output_type": "execute_result"
    }
   ],
   "source": [
    "a.intersection(b)"
   ]
  },
  {
   "cell_type": "code",
   "execution_count": 115,
   "id": "25daf6fc",
   "metadata": {},
   "outputs": [
    {
     "data": {
      "text/plain": [
       "{1, 2}"
      ]
     },
     "execution_count": 115,
     "metadata": {},
     "output_type": "execute_result"
    }
   ],
   "source": [
    "a-b # will return the elements that are present in a but not in b"
   ]
  },
  {
   "cell_type": "markdown",
   "id": "35830972",
   "metadata": {},
   "source": [
    "Comprehension\n"
   ]
  },
  {
   "cell_type": "code",
   "execution_count": 118,
   "id": "8627d160",
   "metadata": {},
   "outputs": [
    {
     "data": {
      "text/plain": [
       "[0, 1, 4, 9, 16, 25, 36, 49, 64, 81]"
      ]
     },
     "execution_count": 118,
     "metadata": {},
     "output_type": "execute_result"
    }
   ],
   "source": [
    "a = []\n",
    "for i in range(10):\n",
    "    a.append(i**2)\n",
    "a"
   ]
  },
  {
   "cell_type": "code",
   "execution_count": 119,
   "id": "113815c6",
   "metadata": {},
   "outputs": [
    {
     "data": {
      "text/plain": [
       "[0, 1, 4, 9, 16, 25, 36, 49, 64, 81, 100, 121]"
      ]
     },
     "execution_count": 119,
     "metadata": {},
     "output_type": "execute_result"
    }
   ],
   "source": [
    "# can be wrriten in single line lime this\n",
    "[i**2 for i in range(12)]\n"
   ]
  },
  {
   "cell_type": "code",
   "execution_count": 120,
   "id": "e61fb3bc",
   "metadata": {},
   "outputs": [
    {
     "data": {
      "text/plain": [
       "[0, 4, 16, 36, 64, 100, 144, 196, 256]"
      ]
     },
     "execution_count": 120,
     "metadata": {},
     "output_type": "execute_result"
    }
   ],
   "source": [
    "[i**2 for i in range(18) if i % 2 ==0]"
   ]
  },
  {
   "cell_type": "code",
   "execution_count": 121,
   "id": "8af56cb7",
   "metadata": {},
   "outputs": [
    {
     "data": {
      "text/plain": [
       "{0: 0, 1: 1, 2: 4, 3: 9, 4: 16, 5: 25, 6: 36, 7: 49, 8: 64, 9: 81}"
      ]
     },
     "execution_count": 121,
     "metadata": {},
     "output_type": "execute_result"
    }
   ],
   "source": [
    "{i:i**2 for i in range(10)}"
   ]
  },
  {
   "cell_type": "code",
   "execution_count": 123,
   "id": "11a0d2eb",
   "metadata": {},
   "outputs": [
    {
     "data": {
      "text/plain": [
       "{0, 1, 4, 9, 16, 25, 36, 49, 64, 81}"
      ]
     },
     "execution_count": 123,
     "metadata": {},
     "output_type": "execute_result"
    }
   ],
   "source": [
    "{i**2 for i in range(10)} # a SET"
   ]
  },
  {
   "cell_type": "markdown",
   "id": "389d43ad",
   "metadata": {},
   "source": [
    "# Tuple comrehension is generator\n"
   ]
  },
  {
   "cell_type": "code",
   "execution_count": 124,
   "id": "ac4a26e5",
   "metadata": {},
   "outputs": [
    {
     "data": {
      "text/plain": [
       "1"
      ]
     },
     "execution_count": 124,
     "metadata": {},
     "output_type": "execute_result"
    }
   ],
   "source": [
    "5//3"
   ]
  },
  {
   "cell_type": "code",
   "execution_count": 125,
   "id": "29714795",
   "metadata": {},
   "outputs": [
    {
     "data": {
      "text/plain": [
       "1.6666666666666667"
      ]
     },
     "execution_count": 125,
     "metadata": {},
     "output_type": "execute_result"
    }
   ],
   "source": [
    "5/3"
   ]
  },
  {
   "cell_type": "code",
   "execution_count": 129,
   "id": "6620611c",
   "metadata": {},
   "outputs": [
    {
     "data": {
      "text/plain": [
       "-10"
      ]
     },
     "execution_count": 129,
     "metadata": {},
     "output_type": "execute_result"
    }
   ],
   "source": [
    "---10"
   ]
  },
  {
   "cell_type": "markdown",
   "id": "a84797ac",
   "metadata": {},
   "source": [
    "# Python classes\n",
    "\n",
    "    1) Every thing in python is an object \n",
    "    2) Every object has a function callable associated with it (T or F)\n",
    "    3) Functions and classes have the callable as true"
   ]
  },
  {
   "cell_type": "code",
   "execution_count": 131,
   "id": "ff605d35",
   "metadata": {},
   "outputs": [],
   "source": [
    "class Person:\n",
    "    name = \"Anay\"\n",
    "    def sayHi(self):\n",
    "        print(self.name)\n",
    "        \n",
    "p = Person()"
   ]
  },
  {
   "cell_type": "code",
   "execution_count": 133,
   "id": "f9d7fdf0",
   "metadata": {},
   "outputs": [
    {
     "name": "stdout",
     "output_type": "stream",
     "text": [
      "Anay\n"
     ]
    }
   ],
   "source": [
    "# So p object is pass to itself by default\n",
    "p.sayHi()"
   ]
  },
  {
   "cell_type": "code",
   "execution_count": 134,
   "id": "1645d406",
   "metadata": {},
   "outputs": [
    {
     "name": "stdout",
     "output_type": "stream",
     "text": [
      "Anay\n"
     ]
    }
   ],
   "source": [
    "# we can call methods on the classes too ( as abstract classes)\n",
    "Person.sayHi(p)"
   ]
  },
  {
   "cell_type": "markdown",
   "id": "b606088a",
   "metadata": {},
   "source": [
    "# Dunders or Magic functions\n",
    "    1) Object have different lifecycles stages and for each stage there is a magic function\n",
    "    2) __init__ is instiated when object is created( not a constructor)\n",
    "# Functions \n",
    "    1) __init__(self) -> when object is created\n",
    "    2) __del__(self) ->\n",
    "    3) __add__(self, other) --> a.__add__(other) where other is an object. \n",
    "    4) __str__(self) \n",
    "    5) __eq__(self , other) --> self == other or can be self.something == other.something"
   ]
  },
  {
   "cell_type": "code",
   "execution_count": 137,
   "id": "c0a5211f",
   "metadata": {},
   "outputs": [],
   "source": [
    "class car:\n",
    "    def __init__(self, car, mileage):\n",
    "        self.car = car\n",
    "        self.mileage = mileage\n",
    "    def __eq__(self, other):\n",
    "        return self.mileage ==other.mileage\n",
    "    def __add__(self,other):\n",
    "        return self.mileage + other.mileage"
   ]
  },
  {
   "cell_type": "code",
   "execution_count": 138,
   "id": "93017f50",
   "metadata": {},
   "outputs": [],
   "source": [
    "a = car(\"ford\",20)\n",
    "b = car(\"honda\",23)"
   ]
  },
  {
   "cell_type": "code",
   "execution_count": 139,
   "id": "15420889",
   "metadata": {},
   "outputs": [
    {
     "data": {
      "text/plain": [
       "43"
      ]
     },
     "execution_count": 139,
     "metadata": {},
     "output_type": "execute_result"
    }
   ],
   "source": [
    "a+b # basically it is overridng __add__ method that we had created"
   ]
  },
  {
   "cell_type": "code",
   "execution_count": 140,
   "id": "478421ac",
   "metadata": {},
   "outputs": [
    {
     "data": {
      "text/plain": [
       "False"
      ]
     },
     "execution_count": 140,
     "metadata": {},
     "output_type": "execute_result"
    }
   ],
   "source": [
    "a==b # overiding eq method"
   ]
  },
  {
   "cell_type": "markdown",
   "id": "2de14c90",
   "metadata": {},
   "source": [
    " # Implementing Cout \n",
    " "
   ]
  },
  {
   "cell_type": "code",
   "execution_count": 141,
   "id": "39df7785",
   "metadata": {},
   "outputs": [],
   "source": [
    "class ostream:\n",
    "    def __lshift__(self,other):\n",
    "        print(other, end=' ')\n",
    "        return self # this is important to chain the cout <<a <<b , as it is return self (that is cout)"
   ]
  },
  {
   "cell_type": "code",
   "execution_count": 142,
   "id": "44c79311",
   "metadata": {},
   "outputs": [],
   "source": [
    "cout = ostream()"
   ]
  },
  {
   "cell_type": "code",
   "execution_count": 144,
   "id": "b4cdf519",
   "metadata": {},
   "outputs": [
    {
     "name": "stdout",
     "output_type": "stream",
     "text": [
      "Anay Jain "
     ]
    },
    {
     "data": {
      "text/plain": [
       "<__main__.ostream at 0x7fc7cb4bc460>"
      ]
     },
     "execution_count": 144,
     "metadata": {},
     "output_type": "execute_result"
    }
   ],
   "source": [
    "cout<<\"Anay\"<<\"Jain\""
   ]
  },
  {
   "cell_type": "code",
   "execution_count": 145,
   "id": "7899e0be",
   "metadata": {},
   "outputs": [],
   "source": [
    "int?"
   ]
  },
  {
   "cell_type": "code",
   "execution_count": 150,
   "id": "651aaf5d",
   "metadata": {},
   "outputs": [
    {
     "data": {
      "text/plain": [
       "1"
      ]
     },
     "execution_count": 150,
     "metadata": {},
     "output_type": "execute_result"
    }
   ],
   "source": [
    "int('1',3)"
   ]
  },
  {
   "cell_type": "code",
   "execution_count": 1,
   "id": "0fc9880a",
   "metadata": {},
   "outputs": [
    {
     "data": {
      "text/plain": [
       "[(1, 4), (23, 5), (4, 6)]"
      ]
     },
     "execution_count": 1,
     "metadata": {},
     "output_type": "execute_result"
    }
   ],
   "source": [
    "a=[1,23,4,5,1,2,3]\n",
    "b=[4,5,6]\n",
    "[(x,y) for x,y in zip(a,b)]"
   ]
  },
  {
   "cell_type": "code",
   "execution_count": 4,
   "id": "9a6a422f",
   "metadata": {},
   "outputs": [
    {
     "data": {
      "text/plain": [
       "[1, 2, 34, 2, 3, 4, 23, 34, [12, 2]]"
      ]
     },
     "execution_count": 4,
     "metadata": {},
     "output_type": "execute_result"
    }
   ],
   "source": [
    "x=[[1,2,34],[2,3,4],[23,34,[12,2]]]\n",
    "[y for a in x for y in a ]"
   ]
  },
  {
   "cell_type": "code",
   "execution_count": 8,
   "id": "b1e846b7",
   "metadata": {},
   "outputs": [],
   "source": [
    "from copy import deepcopy , copy\n",
    "a=[1,2,3]\n",
    "\n",
    "a=copy(a) # will be a refernce "
   ]
  },
  {
   "cell_type": "code",
   "execution_count": 9,
   "id": "586cd3e6",
   "metadata": {},
   "outputs": [
    {
     "data": {
      "text/plain": [
       "'Anay jain'"
      ]
     },
     "execution_count": 9,
     "metadata": {},
     "output_type": "execute_result"
    }
   ],
   "source": [
    "a=[\"Anay\" , \"jain\"]\n",
    "\" \".join(a)"
   ]
  },
  {
   "cell_type": "code",
   "execution_count": 10,
   "id": "01332754",
   "metadata": {},
   "outputs": [
    {
     "name": "stdout",
     "output_type": "stream",
     "text": [
      "I am parent class function\n",
      "I am child class function\n"
     ]
    }
   ],
   "source": [
    "# single inheritance\n",
    "# Parent class\n",
    "class ParentClass:\n",
    "    def par_func(self):\n",
    "         print(\"I am parent class function\")\n",
    "\n",
    "# Child class\n",
    "class ChildClass(ParentClass):\n",
    "    def child_func(self):\n",
    "         print(\"I am child class function\")\n",
    "\n",
    "# Driver code\n",
    "obj1 = ChildClass()\n",
    "obj1.par_func()\n",
    "obj1.child_func()"
   ]
  },
  {
   "cell_type": "code",
   "execution_count": 12,
   "id": "6fb7d45d",
   "metadata": {},
   "outputs": [
    {
     "name": "stdout",
     "output_type": "stream",
     "text": [
      "5\n",
      "will print if there is no error\n",
      "executed\n"
     ]
    }
   ],
   "source": [
    "try:\n",
    "    a=5\n",
    "    print(a)\n",
    "except NameError:\n",
    "    print(\"Name is not defined\")\n",
    "else:\n",
    "    print(\"will print if there is no error\")\n",
    "finally:\n",
    "    print(\"executed\")"
   ]
  },
  {
   "cell_type": "code",
   "execution_count": null,
   "id": "2545910c",
   "metadata": {},
   "outputs": [],
   "source": [
    "# flattening a list\n",
    "newlist = sum(newlist, [])\n",
    "\n"
   ]
  },
  {
   "cell_type": "markdown",
   "id": "345a56d5",
   "metadata": {},
   "source": [
    "# Iterators in python\n",
    "    1) Iteraable object in python that can be iterated upon, using an iterator\n",
    "    2) Iterator return single object so that we can perform task over it"
   ]
  },
  {
   "cell_type": "code",
   "execution_count": 13,
   "id": "ec926e42",
   "metadata": {},
   "outputs": [],
   "source": [
    "class fib:\n",
    "    def __init__(self):\n",
    "        self.prev=0\n",
    "        self.curr=1\n",
    "    def __iter__(self):\n",
    "        return self\n",
    "    def __next__(self):\n",
    "        value = self.curr\n",
    "        self.curr = self.curr+self.prev\n",
    "        self.prev=value\n",
    "        return value"
   ]
  },
  {
   "cell_type": "code",
   "execution_count": 15,
   "id": "93fefa3a",
   "metadata": {},
   "outputs": [],
   "source": [
    "f =iter(fib())"
   ]
  },
  {
   "cell_type": "code",
   "execution_count": 21,
   "id": "ea595c80",
   "metadata": {},
   "outputs": [
    {
     "data": {
      "text/plain": [
       "5"
      ]
     },
     "execution_count": 21,
     "metadata": {},
     "output_type": "execute_result"
    }
   ],
   "source": [
    "next(f)"
   ]
  },
  {
   "cell_type": "markdown",
   "id": "ad7f193c",
   "metadata": {},
   "source": [
    "# Generators in python \n",
    "    n : A generator-function is defined like a normal function, but whenever it needs to generate a value, it does so with the yield keyword rather than return"
   ]
  },
  {
   "cell_type": "code",
   "execution_count": 22,
   "id": "d69fec9e",
   "metadata": {},
   "outputs": [],
   "source": [
    "def fib():\n",
    "    prev,curr=0,1\n",
    "    while True:\n",
    "        yield curr\n",
    "        prev,curr = curr,prev+curr"
   ]
  },
  {
   "cell_type": "code",
   "execution_count": 23,
   "id": "dc6fe13f",
   "metadata": {},
   "outputs": [
    {
     "data": {
      "text/plain": [
       "generator"
      ]
     },
     "execution_count": 23,
     "metadata": {},
     "output_type": "execute_result"
    }
   ],
   "source": [
    "type(fib())"
   ]
  },
  {
   "cell_type": "code",
   "execution_count": 24,
   "id": "2eaf2c6a",
   "metadata": {},
   "outputs": [],
   "source": [
    "gen = fib()"
   ]
  },
  {
   "cell_type": "code",
   "execution_count": 27,
   "id": "719855cb",
   "metadata": {},
   "outputs": [
    {
     "data": {
      "text/plain": [
       "2"
      ]
     },
     "execution_count": 27,
     "metadata": {},
     "output_type": "execute_result"
    }
   ],
   "source": [
    "\n",
    "next(gen)"
   ]
  },
  {
   "cell_type": "code",
   "execution_count": 29,
   "id": "92ad63d8",
   "metadata": {},
   "outputs": [],
   "source": [
    "a =(x**2 for x in range(1,11))"
   ]
  },
  {
   "cell_type": "code",
   "execution_count": 31,
   "id": "a4ec2ee0",
   "metadata": {},
   "outputs": [
    {
     "data": {
      "text/plain": [
       "4"
      ]
     },
     "execution_count": 31,
     "metadata": {},
     "output_type": "execute_result"
    }
   ],
   "source": [
    "next(a)"
   ]
  },
  {
   "cell_type": "code",
   "execution_count": 33,
   "id": "16300dd5",
   "metadata": {},
   "outputs": [
    {
     "name": "stdout",
     "output_type": "stream",
     "text": [
      "Requirement already satisfied: nbconvert in /Users/anay/anaconda3/lib/python3.9/site-packages (6.1.0)\n",
      "Requirement already satisfied: traitlets>=5.0 in /Users/anay/anaconda3/lib/python3.9/site-packages (from nbconvert) (5.1.0)\n",
      "Requirement already satisfied: entrypoints>=0.2.2 in /Users/anay/anaconda3/lib/python3.9/site-packages (from nbconvert) (0.3)\n",
      "Requirement already satisfied: jupyter-core in /Users/anay/anaconda3/lib/python3.9/site-packages (from nbconvert) (4.8.1)\n",
      "Requirement already satisfied: testpath in /Users/anay/anaconda3/lib/python3.9/site-packages (from nbconvert) (0.5.0)\n",
      "Requirement already satisfied: bleach in /Users/anay/anaconda3/lib/python3.9/site-packages (from nbconvert) (4.0.0)\n",
      "Requirement already satisfied: jupyterlab-pygments in /Users/anay/anaconda3/lib/python3.9/site-packages (from nbconvert) (0.1.2)\n",
      "Requirement already satisfied: mistune<2,>=0.8.1 in /Users/anay/anaconda3/lib/python3.9/site-packages (from nbconvert) (0.8.4)\n",
      "Requirement already satisfied: nbformat>=4.4 in /Users/anay/anaconda3/lib/python3.9/site-packages (from nbconvert) (5.1.3)\n",
      "Requirement already satisfied: pygments>=2.4.1 in /Users/anay/anaconda3/lib/python3.9/site-packages (from nbconvert) (2.10.0)\n",
      "Requirement already satisfied: pandocfilters>=1.4.1 in /Users/anay/anaconda3/lib/python3.9/site-packages (from nbconvert) (1.4.3)\n",
      "Requirement already satisfied: defusedxml in /Users/anay/anaconda3/lib/python3.9/site-packages (from nbconvert) (0.7.1)\n",
      "Requirement already satisfied: jinja2>=2.4 in /Users/anay/anaconda3/lib/python3.9/site-packages (from nbconvert) (2.11.3)\n",
      "Requirement already satisfied: nbclient<0.6.0,>=0.5.0 in /Users/anay/anaconda3/lib/python3.9/site-packages (from nbconvert) (0.5.3)\n",
      "Requirement already satisfied: MarkupSafe>=0.23 in /Users/anay/anaconda3/lib/python3.9/site-packages (from jinja2>=2.4->nbconvert) (1.1.1)\n",
      "Requirement already satisfied: nest-asyncio in /Users/anay/anaconda3/lib/python3.9/site-packages (from nbclient<0.6.0,>=0.5.0->nbconvert) (1.5.1)\n",
      "Requirement already satisfied: async-generator in /Users/anay/anaconda3/lib/python3.9/site-packages (from nbclient<0.6.0,>=0.5.0->nbconvert) (1.10)\n",
      "Requirement already satisfied: jupyter-client>=6.1.5 in /Users/anay/anaconda3/lib/python3.9/site-packages (from nbclient<0.6.0,>=0.5.0->nbconvert) (6.1.12)\n",
      "Requirement already satisfied: tornado>=4.1 in /Users/anay/anaconda3/lib/python3.9/site-packages (from jupyter-client>=6.1.5->nbclient<0.6.0,>=0.5.0->nbconvert) (6.1)\n",
      "Requirement already satisfied: pyzmq>=13 in /Users/anay/anaconda3/lib/python3.9/site-packages (from jupyter-client>=6.1.5->nbclient<0.6.0,>=0.5.0->nbconvert) (22.2.1)\n",
      "Requirement already satisfied: python-dateutil>=2.1 in /Users/anay/anaconda3/lib/python3.9/site-packages (from jupyter-client>=6.1.5->nbclient<0.6.0,>=0.5.0->nbconvert) (2.8.2)\n",
      "Requirement already satisfied: jsonschema!=2.5.0,>=2.4 in /Users/anay/anaconda3/lib/python3.9/site-packages (from nbformat>=4.4->nbconvert) (3.2.0)\n",
      "Requirement already satisfied: ipython-genutils in /Users/anay/anaconda3/lib/python3.9/site-packages (from nbformat>=4.4->nbconvert) (0.2.0)\n",
      "Requirement already satisfied: setuptools in /Users/anay/anaconda3/lib/python3.9/site-packages (from jsonschema!=2.5.0,>=2.4->nbformat>=4.4->nbconvert) (58.0.4)\n",
      "Requirement already satisfied: attrs>=17.4.0 in /Users/anay/anaconda3/lib/python3.9/site-packages (from jsonschema!=2.5.0,>=2.4->nbformat>=4.4->nbconvert) (21.2.0)\n",
      "Requirement already satisfied: pyrsistent>=0.14.0 in /Users/anay/anaconda3/lib/python3.9/site-packages (from jsonschema!=2.5.0,>=2.4->nbformat>=4.4->nbconvert) (0.18.0)\n",
      "Requirement already satisfied: six>=1.11.0 in /Users/anay/anaconda3/lib/python3.9/site-packages (from jsonschema!=2.5.0,>=2.4->nbformat>=4.4->nbconvert) (1.16.0)\n",
      "Requirement already satisfied: webencodings in /Users/anay/anaconda3/lib/python3.9/site-packages (from bleach->nbconvert) (0.5.1)\n",
      "Requirement already satisfied: packaging in /Users/anay/anaconda3/lib/python3.9/site-packages (from bleach->nbconvert) (21.0)\n",
      "Requirement already satisfied: pyparsing>=2.0.2 in /Users/anay/anaconda3/lib/python3.9/site-packages (from packaging->bleach->nbconvert) (3.0.4)\n"
     ]
    }
   ],
   "source": [
    "!pip install nbconvert"
   ]
  },
  {
   "cell_type": "code",
   "execution_count": 34,
   "id": "e628f5c1",
   "metadata": {},
   "outputs": [
    {
     "name": "stdout",
     "output_type": "stream",
     "text": [
      "Collecting pyppeteer\n",
      "  Downloading pyppeteer-1.0.2-py3-none-any.whl (83 kB)\n",
      "\u001b[K     |████████████████████████████████| 83 kB 3.9 MB/s eta 0:00:01\n",
      "\u001b[?25hRequirement already satisfied: importlib-metadata>=1.4 in /Users/anay/anaconda3/lib/python3.9/site-packages (from pyppeteer) (4.8.1)\n",
      "Collecting websockets<11.0,>=10.0\n",
      "  Downloading websockets-10.3-cp39-cp39-macosx_10_9_x86_64.whl (97 kB)\n",
      "\u001b[K     |████████████████████████████████| 97 kB 7.3 MB/s eta 0:00:011\n",
      "\u001b[?25hRequirement already satisfied: tqdm<5.0.0,>=4.42.1 in /Users/anay/anaconda3/lib/python3.9/site-packages (from pyppeteer) (4.62.3)\n",
      "Requirement already satisfied: appdirs<2.0.0,>=1.4.3 in /Users/anay/anaconda3/lib/python3.9/site-packages (from pyppeteer) (1.4.4)\n",
      "Collecting pyee<9.0.0,>=8.1.0\n",
      "  Downloading pyee-8.2.2-py2.py3-none-any.whl (12 kB)\n",
      "Requirement already satisfied: certifi>=2021 in /Users/anay/anaconda3/lib/python3.9/site-packages (from pyppeteer) (2021.10.8)\n",
      "Requirement already satisfied: urllib3<2.0.0,>=1.25.8 in /Users/anay/anaconda3/lib/python3.9/site-packages (from pyppeteer) (1.26.7)\n",
      "Requirement already satisfied: zipp>=0.5 in /Users/anay/anaconda3/lib/python3.9/site-packages (from importlib-metadata>=1.4->pyppeteer) (3.6.0)\n",
      "Installing collected packages: websockets, pyee, pyppeteer\n",
      "Successfully installed pyee-8.2.2 pyppeteer-1.0.2 websockets-10.3\n"
     ]
    }
   ],
   "source": [
    "!pip install pyppeteer"
   ]
  },
  {
   "cell_type": "code",
   "execution_count": null,
   "id": "887265da",
   "metadata": {},
   "outputs": [],
   "source": []
  }
 ],
 "metadata": {
  "kernelspec": {
   "display_name": "Python 3 (ipykernel)",
   "language": "python",
   "name": "python3"
  },
  "language_info": {
   "codemirror_mode": {
    "name": "ipython",
    "version": 3
   },
   "file_extension": ".py",
   "mimetype": "text/x-python",
   "name": "python",
   "nbconvert_exporter": "python",
   "pygments_lexer": "ipython3",
   "version": "3.9.7"
  }
 },
 "nbformat": 4,
 "nbformat_minor": 5
}
